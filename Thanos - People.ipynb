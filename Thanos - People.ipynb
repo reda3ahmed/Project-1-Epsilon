{
 "cells": [
  {
   "cell_type": "markdown",
   "metadata": {},
   "source": [
    "<img src=\"thanos.jpg\">"
   ]
  },
  {
   "cell_type": "markdown",
   "metadata": {},
   "source": [
    "# Project 1 - Thanos"
   ]
  },
  {
   "cell_type": "markdown",
   "metadata": {},
   "source": [
    "### 1. Import libraries (os, random, time)"
   ]
  },
  {
   "cell_type": "code",
   "execution_count": 10,
   "metadata": {},
   "outputs": [],
   "source": [
    "import os\n",
    "import random\n",
    "import time"
   ]
  },
  {
   "cell_type": "markdown",
   "metadata": {},
   "source": [
    "### 2. Create function to read all the files (people) from a directory. The function takes the location path as input and returns a list with the files in the folder"
   ]
  },
  {
   "cell_type": "code",
   "execution_count": 3,
   "metadata": {},
   "outputs": [],
   "source": [
    "def get_universe_people(path):\n",
    "    people = os.listdir(path)\n",
    "    return people"
   ]
  },
  {
   "cell_type": "markdown",
   "metadata": {},
   "source": [
    "### 3. Create a list called 'universe' that contains our people"
   ]
  },
  {
   "cell_type": "code",
   "execution_count": 7,
   "metadata": {},
   "outputs": [
    {
     "data": {
      "text/plain": [
       "['Adam Sandler.jpg',\n",
       " 'Angelina Julie.png',\n",
       " 'Ariana Grande.jpeg',\n",
       " 'Ben Affleck.jpg',\n",
       " 'Ben Stiller.jpg',\n",
       " 'Bill Gates.jpg',\n",
       " 'Brad Pitt.jpg',\n",
       " 'Britney Spears.jpg',\n",
       " 'Bruce Lee.jpg',\n",
       " 'Cameron Diaz.jpg',\n",
       " 'Dwayne Johnson.jpg',\n",
       " 'Elon Musk.jpg',\n",
       " 'Elton John.jpg',\n",
       " 'Jack Black.jpg',\n",
       " 'Jackie Chan.jpg',\n",
       " 'Jamie Foxx.jpg',\n",
       " 'Jason Segel.jpg',\n",
       " 'Jason Statham.jpg',\n",
       " 'Jeff Bezos.jpg',\n",
       " 'Jennifer Aniston.jpg',\n",
       " 'Jennifer Lopez.jpg',\n",
       " 'Jerry Seinfeld.jpg',\n",
       " 'Jim Carrey.jpg',\n",
       " 'John Cena.jpg',\n",
       " 'Johnny Depp.jpg',\n",
       " 'Josh Radnor.jpg',\n",
       " 'Julia Roberts.jpg',\n",
       " 'Justin Timberlake.jpg',\n",
       " 'Kate Upton.jpg',\n",
       " 'Keanu Reeves.jpg',\n",
       " 'Kevin Hart.jpg',\n",
       " 'Madonna.jpg',\n",
       " 'Mark Ruffalo.jpg',\n",
       " 'Mark Zuckerberg.jpg',\n",
       " 'Matt Damon.jpg',\n",
       " 'Michael Jackson.jpg',\n",
       " 'Michael Jordan.jpg',\n",
       " 'Mindy Kaling.jpg',\n",
       " 'Miranda Cosgrove.jpg',\n",
       " 'Neil Patrick Harris.jpg',\n",
       " 'Nick Jonas.jpg',\n",
       " 'Nicole Kidman.jpg',\n",
       " 'Paul Rudd.jpg',\n",
       " 'Robin Williams.jpg',\n",
       " 'Steve Carell.jpg',\n",
       " 'Steve Jobs.jpg',\n",
       " 'Sylvester Stallone.jpg',\n",
       " 'Tom Cruise.jpg',\n",
       " 'Will Ferrell.jpg',\n",
       " 'Will Smith.jpg']"
      ]
     },
     "execution_count": 7,
     "metadata": {},
     "output_type": "execute_result"
    }
   ],
   "source": [
    "universe = get_universe_people('parallel_universe')\n",
    "universe"
   ]
  },
  {
   "cell_type": "markdown",
   "metadata": {},
   "source": [
    "### 4. Check how many people there are in the universe (length of the list)"
   ]
  },
  {
   "cell_type": "code",
   "execution_count": 13,
   "metadata": {},
   "outputs": [
    {
     "data": {
      "text/plain": [
       "25"
      ]
     },
     "execution_count": 13,
     "metadata": {},
     "output_type": "execute_result"
    }
   ],
   "source": [
    "len(universe)"
   ]
  },
  {
   "cell_type": "code",
   "execution_count": 14,
   "metadata": {},
   "outputs": [
    {
     "data": {
      "text/plain": [
       "12.5"
      ]
     },
     "execution_count": 14,
     "metadata": {},
     "output_type": "execute_result"
    }
   ],
   "source": [
    "len(universe) / 2"
   ]
  },
  {
   "cell_type": "markdown",
   "metadata": {},
   "source": [
    "### 5. When Thanos snaps his hands, he kills half the population. Create a function 'snap' to simulate thanos snapping, deleting half of the images in the universe folder <br> The images should be selected from the list by random. <br> People should be killed with a 1 second interval"
   ]
  },
  {
   "cell_type": "code",
   "execution_count": 5,
   "metadata": {},
   "outputs": [],
   "source": [
    "def snap(universe):\n",
    "    half_of_people = len(universe) // 2\n",
    "    for i in range(half_of_people):\n",
    "        person = random.choice(universe)\n",
    "        os.remove('parallel_universe/' + person)\n",
    "        universe.remove(person)\n",
    "        print(f\"Destroying people: {person} \")\n",
    "        time.sleep(1)\n",
    "    print('Perfectly balanced, as all things should be')"
   ]
  },
  {
   "cell_type": "code",
   "execution_count": 11,
   "metadata": {},
   "outputs": [
    {
     "name": "stdout",
     "output_type": "stream",
     "text": [
      "Destroying people: Josh Radnor.jpg \n",
      "Destroying people: Kevin Hart.jpg \n",
      "Destroying people: Steve Jobs.jpg \n",
      "Destroying people: Mark Zuckerberg.jpg \n",
      "Destroying people: Jason Statham.jpg \n",
      "Destroying people: Will Ferrell.jpg \n",
      "Destroying people: Jeff Bezos.jpg \n",
      "Destroying people: Mindy Kaling.jpg \n",
      "Destroying people: Bruce Lee.jpg \n",
      "Destroying people: Michael Jordan.jpg \n",
      "Destroying people: John Cena.jpg \n",
      "Destroying people: Jerry Seinfeld.jpg \n",
      "Destroying people: Cameron Diaz.jpg \n",
      "Destroying people: Ben Stiller.jpg \n",
      "Destroying people: Ariana Grande.jpeg \n",
      "Destroying people: Kate Upton.jpg \n",
      "Destroying people: Ben Affleck.jpg \n",
      "Destroying people: Jim Carrey.jpg \n",
      "Destroying people: Jennifer Aniston.jpg \n",
      "Destroying people: Julia Roberts.jpg \n",
      "Destroying people: Will Smith.jpg \n",
      "Destroying people: Elon Musk.jpg \n",
      "Destroying people: Tom Cruise.jpg \n",
      "Destroying people: Johnny Depp.jpg \n",
      "Destroying people: Sylvester Stallone.jpg \n",
      "Perfectly balanced, as all things should be\n"
     ]
    }
   ],
   "source": [
    "snap(universe)"
   ]
  },
  {
   "cell_type": "markdown",
   "metadata": {},
   "source": [
    "### 6. Check how the new universe looks"
   ]
  },
  {
   "cell_type": "code",
   "execution_count": 12,
   "metadata": {},
   "outputs": [
    {
     "data": {
      "text/plain": [
       "['Adam Sandler.jpg',\n",
       " 'Angelina Julie.png',\n",
       " 'Bill Gates.jpg',\n",
       " 'Brad Pitt.jpg',\n",
       " 'Britney Spears.jpg',\n",
       " 'Dwayne Johnson.jpg',\n",
       " 'Elton John.jpg',\n",
       " 'Jack Black.jpg',\n",
       " 'Jackie Chan.jpg',\n",
       " 'Jamie Foxx.jpg',\n",
       " 'Jason Segel.jpg',\n",
       " 'Jennifer Lopez.jpg',\n",
       " 'Justin Timberlake.jpg',\n",
       " 'Keanu Reeves.jpg',\n",
       " 'Madonna.jpg',\n",
       " 'Mark Ruffalo.jpg',\n",
       " 'Matt Damon.jpg',\n",
       " 'Michael Jackson.jpg',\n",
       " 'Miranda Cosgrove.jpg',\n",
       " 'Neil Patrick Harris.jpg',\n",
       " 'Nick Jonas.jpg',\n",
       " 'Nicole Kidman.jpg',\n",
       " 'Paul Rudd.jpg',\n",
       " 'Robin Williams.jpg',\n",
       " 'Steve Carell.jpg']"
      ]
     },
     "execution_count": 12,
     "metadata": {},
     "output_type": "execute_result"
    }
   ],
   "source": [
    "new_universe = get_universe_people('parallel_universe')\n",
    "new_universe"
   ]
  },
  {
   "cell_type": "code",
   "execution_count": null,
   "metadata": {},
   "outputs": [],
   "source": []
  },
  {
   "cell_type": "code",
   "execution_count": null,
   "metadata": {},
   "outputs": [],
   "source": []
  },
  {
   "cell_type": "markdown",
   "metadata": {},
   "source": [
    "### Extra Excercises:\n",
    "\n",
    "- (Medium) Re-implement the Thanos project, but delete the people whose name starts with 'M' or 'N'\n",
    "- (Hard) Re-implement the Thanos project, but delete the people whose LAST name starts with 'C"
   ]
  },
  {
   "cell_type": "markdown",
   "metadata": {},
   "source": [
    "# Great Work!"
   ]
  }
 ],
 "metadata": {
  "kernelspec": {
   "display_name": "Python 3",
   "language": "python",
   "name": "python3"
  },
  "language_info": {
   "codemirror_mode": {
    "name": "ipython",
    "version": 3
   },
   "file_extension": ".py",
   "mimetype": "text/x-python",
   "name": "python",
   "nbconvert_exporter": "python",
   "pygments_lexer": "ipython3",
   "version": "3.8.3"
  }
 },
 "nbformat": 4,
 "nbformat_minor": 2
}
